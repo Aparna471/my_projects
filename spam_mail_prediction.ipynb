{
  "nbformat": 4,
  "nbformat_minor": 0,
  "metadata": {
    "colab": {
      "name": "spam_mail_prediction.ipynb",
      "provenance": [],
      "collapsed_sections": [],
      "authorship_tag": "ABX9TyOU7MRye0NClKdpvMSVpr6v",
      "include_colab_link": true
    },
    "kernelspec": {
      "name": "python3",
      "display_name": "Python 3"
    },
    "language_info": {
      "name": "python"
    }
  },
  "cells": [
    {
      "cell_type": "markdown",
      "metadata": {
        "id": "view-in-github",
        "colab_type": "text"
      },
      "source": [
        "<a href=\"https://colab.research.google.com/github/Aparna471/my_projects/blob/main/spam_mail_prediction.ipynb\" target=\"_parent\"><img src=\"https://colab.research.google.com/assets/colab-badge.svg\" alt=\"Open In Colab\"/></a>"
      ]
    },
    {
      "cell_type": "markdown",
      "metadata": {
        "id": "Q3nmebB77cHC"
      },
      "source": [
        "Spam / ham Mail prefiction "
      ]
    },
    {
      "cell_type": "code",
      "metadata": {
        "id": "fAzW9gKn89BM"
      },
      "source": [
        "# import libraries\n",
        "import numpy as np \n",
        "import pandas as pd\n",
        "from sklearn.model_selection import train_test_split\n",
        "from sklearn.feature_extraction.text import TfidfVectorizer # to extract text \n",
        "from sklearn.svm import LinearSVC\n",
        "from sklearn.metrics import accuracy_score"
      ],
      "execution_count": null,
      "outputs": []
    },
    {
      "cell_type": "code",
      "metadata": {
        "id": "zKdMtF1v-jqS"
      },
      "source": [
        "# Data Pre-processing \n",
        "# load data set\n",
        "raw_mail_data = pd.read_csv(\"spam_data.csv\",encoding = \"latin-1\")\n",
        "#replace null values with Nan \n",
        "mail_data = raw_mail_data.where((pd.notnull(raw_mail_data)),\"\")\n"
      ],
      "execution_count": null,
      "outputs": []
    },
    {
      "cell_type": "code",
      "metadata": {
        "colab": {
          "base_uri": "https://localhost:8080/"
        },
        "id": "zF5KTPVEDcXT",
        "outputId": "b0f3f97c-cdff-4180-898a-082088d106fa"
      },
      "source": [
        "mail_data.shape"
      ],
      "execution_count": null,
      "outputs": [
        {
          "output_type": "execute_result",
          "data": {
            "text/plain": [
              "(5572, 5)"
            ]
          },
          "metadata": {
            "tags": []
          },
          "execution_count": 103
        }
      ]
    },
    {
      "cell_type": "code",
      "metadata": {
        "colab": {
          "base_uri": "https://localhost:8080/",
          "height": 195
        },
        "id": "qbArz-qODkcQ",
        "outputId": "4ada1e48-0587-4275-a44a-8da4e2348c08"
      },
      "source": [
        "\n",
        "mail_data.head()\n"
      ],
      "execution_count": null,
      "outputs": [
        {
          "output_type": "execute_result",
          "data": {
            "text/html": [
              "<div>\n",
              "<style scoped>\n",
              "    .dataframe tbody tr th:only-of-type {\n",
              "        vertical-align: middle;\n",
              "    }\n",
              "\n",
              "    .dataframe tbody tr th {\n",
              "        vertical-align: top;\n",
              "    }\n",
              "\n",
              "    .dataframe thead th {\n",
              "        text-align: right;\n",
              "    }\n",
              "</style>\n",
              "<table border=\"1\" class=\"dataframe\">\n",
              "  <thead>\n",
              "    <tr style=\"text-align: right;\">\n",
              "      <th></th>\n",
              "      <th>v1</th>\n",
              "      <th>v2</th>\n",
              "      <th>Unnamed: 2</th>\n",
              "      <th>Unnamed: 3</th>\n",
              "      <th>Unnamed: 4</th>\n",
              "    </tr>\n",
              "  </thead>\n",
              "  <tbody>\n",
              "    <tr>\n",
              "      <th>0</th>\n",
              "      <td>ham</td>\n",
              "      <td>Go until jurong point, crazy.. Available only ...</td>\n",
              "      <td></td>\n",
              "      <td></td>\n",
              "      <td></td>\n",
              "    </tr>\n",
              "    <tr>\n",
              "      <th>1</th>\n",
              "      <td>ham</td>\n",
              "      <td>Ok lar... Joking wif u oni...</td>\n",
              "      <td></td>\n",
              "      <td></td>\n",
              "      <td></td>\n",
              "    </tr>\n",
              "    <tr>\n",
              "      <th>2</th>\n",
              "      <td>spam</td>\n",
              "      <td>Free entry in 2 a wkly comp to win FA Cup fina...</td>\n",
              "      <td></td>\n",
              "      <td></td>\n",
              "      <td></td>\n",
              "    </tr>\n",
              "    <tr>\n",
              "      <th>3</th>\n",
              "      <td>ham</td>\n",
              "      <td>U dun say so early hor... U c already then say...</td>\n",
              "      <td></td>\n",
              "      <td></td>\n",
              "      <td></td>\n",
              "    </tr>\n",
              "    <tr>\n",
              "      <th>4</th>\n",
              "      <td>ham</td>\n",
              "      <td>Nah I don't think he goes to usf, he lives aro...</td>\n",
              "      <td></td>\n",
              "      <td></td>\n",
              "      <td></td>\n",
              "    </tr>\n",
              "  </tbody>\n",
              "</table>\n",
              "</div>"
            ],
            "text/plain": [
              "     v1  ... Unnamed: 4\n",
              "0   ham  ...           \n",
              "1   ham  ...           \n",
              "2  spam  ...           \n",
              "3   ham  ...           \n",
              "4   ham  ...           \n",
              "\n",
              "[5 rows x 5 columns]"
            ]
          },
          "metadata": {
            "tags": []
          },
          "execution_count": 5
        }
      ]
    },
    {
      "cell_type": "code",
      "metadata": {
        "id": "d8novzOHDrVR"
      },
      "source": [
        "#labeling data spam as\"0\" and ham as \"1\"\n",
        "mail_data.loc[mail_data['v1'] == \"spam\" ,\"v1\",] = 0\n",
        "mail_data.loc[mail_data['v1'] == \"ham\" ,\"v1\",] = 1"
      ],
      "execution_count": null,
      "outputs": []
    },
    {
      "cell_type": "code",
      "metadata": {
        "colab": {
          "base_uri": "https://localhost:8080/"
        },
        "id": "WPkGV9fiFTQW",
        "outputId": "e5ee0fd3-84a7-4c97-9b13-b941a15671cc"
      },
      "source": [
        "# Seperate the data as text and label ; x-->Text ,y-->Label\n",
        "x = mail_data[\"v2\"]\n",
        "y =mail_data[\"v1\"]\n",
        "print(x)\n",
        "print(y)"
      ],
      "execution_count": null,
      "outputs": [
        {
          "output_type": "stream",
          "text": [
            "0       Go until jurong point, crazy.. Available only ...\n",
            "1                           Ok lar... Joking wif u oni...\n",
            "2       Free entry in 2 a wkly comp to win FA Cup fina...\n",
            "3       U dun say so early hor... U c already then say...\n",
            "4       Nah I don't think he goes to usf, he lives aro...\n",
            "                              ...                        \n",
            "5567    This is the 2nd time we have tried 2 contact u...\n",
            "5568                Will Ì_ b going to esplanade fr home?\n",
            "5569    Pity, * was in mood for that. So...any other s...\n",
            "5570    The guy did some bitching but I acted like i'd...\n",
            "5571                           Rofl. Its true to its name\n",
            "Name: v2, Length: 5572, dtype: object\n",
            "0       1\n",
            "1       1\n",
            "2       0\n",
            "3       1\n",
            "4       1\n",
            "       ..\n",
            "5567    0\n",
            "5568    1\n",
            "5569    1\n",
            "5570    1\n",
            "5571    1\n",
            "Name: v1, Length: 5572, dtype: object\n"
          ],
          "name": "stdout"
        }
      ]
    },
    {
      "cell_type": "markdown",
      "metadata": {
        "id": "qt4OKKizG6DA"
      },
      "source": [
        "Feature Extraction"
      ]
    },
    {
      "cell_type": "code",
      "metadata": {
        "id": "kUwHchcZGwma"
      },
      "source": [
        "# transform the text data to Feature vector using tfidf vectors \n",
        "# convert text to lower case\n",
        "feature_extarction = TfidfVectorizer(min_df=1 , stop_words = \"english\",lowercase=\"True\")\n",
        "x_features = feature_extarction.fit_transform(x)\n",
        "\n",
        "#Convert y-train and y-test functions into int usind astype\n",
        "y = y.astype(\"int\")\n",
        "\n",
        "\n"
      ],
      "execution_count": null,
      "outputs": []
    },
    {
      "cell_type": "markdown",
      "metadata": {
        "id": "VBah_bRunlyu"
      },
      "source": [
        "Splitting train and test data"
      ]
    },
    {
      "cell_type": "markdown",
      "metadata": {
        "id": "l2aQTX55LT_M"
      },
      "source": [
        "Training model--> svm"
      ]
    },
    {
      "cell_type": "code",
      "metadata": {
        "id": "C8dKo_yJnrx1"
      },
      "source": [
        "x_features_train,x_features_test,y_train,y_test =train_test_split(x_features,y,test_size = 0.2,random_state =1)"
      ],
      "execution_count": null,
      "outputs": []
    },
    {
      "cell_type": "code",
      "metadata": {
        "colab": {
          "base_uri": "https://localhost:8080/"
        },
        "id": "0YZqcGhWOGyM",
        "outputId": "70c088a9-699b-48cc-c85a-98c90baed28c"
      },
      "source": [
        "#training the svm\n",
        "model = LinearSVC()\n",
        "model.fit(x_features_train,y_train)\n"
      ],
      "execution_count": null,
      "outputs": [
        {
          "output_type": "execute_result",
          "data": {
            "text/plain": [
              "LinearSVC(C=1.0, class_weight=None, dual=True, fit_intercept=True,\n",
              "          intercept_scaling=1, loss='squared_hinge', max_iter=1000,\n",
              "          multi_class='ovr', penalty='l2', random_state=None, tol=0.0001,\n",
              "          verbose=0)"
            ]
          },
          "metadata": {
            "tags": []
          },
          "execution_count": 18
        }
      ]
    },
    {
      "cell_type": "markdown",
      "metadata": {
        "id": "C44jtjkxOp8B"
      },
      "source": [
        "Evaluate the training data\n"
      ]
    },
    {
      "cell_type": "code",
      "metadata": {
        "colab": {
          "base_uri": "https://localhost:8080/"
        },
        "id": "sTxM42GVO-mY",
        "outputId": "449595e4-6641-4b71-e459-61a76429734c"
      },
      "source": [
        "#predict the train data\n",
        "pred_model_train = model.predict(x_features_train)\n",
        "accuracy_score_train_data = accuracy_score(y_train,pred_model_train)\n",
        "print(accuracy_score_train_data)\n"
      ],
      "execution_count": null,
      "outputs": [
        {
          "output_type": "stream",
          "text": [
            "0.9997756338344178\n"
          ],
          "name": "stdout"
        }
      ]
    },
    {
      "cell_type": "code",
      "metadata": {
        "colab": {
          "base_uri": "https://localhost:8080/"
        },
        "id": "qATlVo2RR_9t",
        "outputId": "9f08275b-c840-46ec-fd6e-b639f5fa9c10"
      },
      "source": [
        "#predict the test data\n",
        "pred_model_test = model.predict(x_features_test)\n",
        "\n",
        "accuracy_score_test_data = accuracy_score(y_test,pred_model_test)\n",
        "print(accuracy_score_test_data)\n"
      ],
      "execution_count": null,
      "outputs": [
        {
          "output_type": "stream",
          "text": [
            "0.9910313901345291\n"
          ],
          "name": "stdout"
        }
      ]
    },
    {
      "cell_type": "code",
      "metadata": {
        "id": "NaAGEQGkdvfC",
        "colab": {
          "base_uri": "https://localhost:8080/"
        },
        "outputId": "ee9e2fae-0d26-4747-9ba6-72f0a4ef10cc"
      },
      "source": [
        "input_mail =[\"WINNER!! As a valued network customer you have been selected to receivea å£900 prize reward! To claim call 09061701461. Claim code KL341. Valid 12 hours only.,,,\"]\n",
        "input_mail_features = feature_extarction.transform(input_mail)\n",
        "# predict the mail\n",
        "prediction = model.predict(input_mail_features)\n",
        "print(prediction)\n"
      ],
      "execution_count": null,
      "outputs": [
        {
          "output_type": "stream",
          "text": [
            "[0]\n"
          ],
          "name": "stdout"
        }
      ]
    },
    {
      "cell_type": "markdown",
      "metadata": {
        "id": "qF8JWDO1ubW5"
      },
      "source": [
        "Printing whether it is spam / ham"
      ]
    },
    {
      "cell_type": "code",
      "metadata": {
        "colab": {
          "base_uri": "https://localhost:8080/"
        },
        "id": "gURB3v1WulNZ",
        "outputId": "c01b60af-1383-4061-bfdb-756f15a37bfe"
      },
      "source": [
        "if (prediction[0]== 0):\n",
        "  print(\"Alert!!!!.It may be spam mail\")\n",
        "else:\n",
        "  print(\"It is an haam mail. Safe to keep\")"
      ],
      "execution_count": null,
      "outputs": [
        {
          "output_type": "stream",
          "text": [
            "Alert!!!!.It may be spam mail\n"
          ],
          "name": "stdout"
        }
      ]
    }
  ]
}