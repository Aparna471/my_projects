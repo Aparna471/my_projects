{
  "nbformat": 4,
  "nbformat_minor": 0,
  "metadata": {
    "colab": {
      "name": "Breast Cancer Prediction Project .ipynb",
      "provenance": [],
      "collapsed_sections": [],
      "authorship_tag": "ABX9TyMVmej6N1pBhvqYQh2lmX/p",
      "include_colab_link": true
    },
    "kernelspec": {
      "name": "python3",
      "display_name": "Python 3"
    },
    "language_info": {
      "name": "python"
    }
  },
  "cells": [
    {
      "cell_type": "markdown",
      "metadata": {
        "id": "view-in-github",
        "colab_type": "text"
      },
      "source": [
        "<a href=\"https://colab.research.google.com/github/Aparna471/my_projects/blob/main/Breast_Cancer_Prediction_Project_.ipynb\" target=\"_parent\"><img src=\"https://colab.research.google.com/assets/colab-badge.svg\" alt=\"Open In Colab\"/></a>"
      ]
    },
    {
      "cell_type": "markdown",
      "metadata": {
        "id": "l_iZYwCR0dfe"
      },
      "source": [
        "Breast Cancer Prediction using Logical Regression \n"
      ]
    },
    {
      "cell_type": "code",
      "metadata": {
        "id": "Yf_WBPMh0vVS"
      },
      "source": [
        "#start \n",
        "#import libraries\n",
        "import numpy as np\n",
        "import sklearn.datasets\n",
        "import pandas as pd\n",
        "from sklearn.model_selection import train_test_split\n",
        "import warnings\n",
        "#warnings.filterwarnings('ignore')\n"
      ],
      "execution_count": null,
      "outputs": []
    },
    {
      "cell_type": "code",
      "metadata": {
        "colab": {
          "base_uri": "https://localhost:8080/"
        },
        "id": "rlTukNyI1GNQ",
        "outputId": "be6d10b5-6a4e-4c11-d912-aea5961dcb39"
      },
      "source": [
        "breast_cancer =sklearn.datasets .load_breast_cancer()\n",
        "x= breast_cancer.data\n",
        "y = breast_cancer.target\n",
        "print(x.shape)\n",
        "print(y.shape)\n",
        "# Import data to the pandas dataframe\n",
        "data = pd.DataFrame(breast_cancer.data ,columns = breast_cancer.feature_names)\n",
        "data[\"class\"]= breast_cancer.target\n",
        "data.head()\n",
        "#for statistical info\n",
        "data.describe()\n",
        "print(data[\"class\"].value_counts())\n",
        "print(breast_cancer.target_names)\n",
        "data.groupby(\"class\").mean()\n",
        "#train_test_split for split the data into train_data and test_data\n",
        "from sklearn.model_selection import train_test_split\n",
        "x_train ,x_test ,y_train,y_test =train_test_split(x,y, test_size =0.2 ,random_state = 1)\n",
        "print(y.shape , y_train.shape , y_test.shape)\n",
        "#the means of actual data ,train data , test data should lie in d=same range so that only we can fin accurate results\n",
        "print(y.mean(),y_train.mean(),y_test.mean())\n"
      ],
      "execution_count": null,
      "outputs": [
        {
          "output_type": "stream",
          "text": [
            "(569, 30)\n",
            "(569,)\n",
            "1    357\n",
            "0    212\n",
            "Name: class, dtype: int64\n",
            "['malignant' 'benign']\n",
            "(569,) (455,) (114,)\n",
            "0.6274165202108963 0.6263736263736264 0.631578947368421\n"
          ],
          "name": "stdout"
        }
      ]
    },
    {
      "cell_type": "markdown",
      "metadata": {
        "id": "mvCXTMq0_car"
      },
      "source": [
        "LOgistic Regression\n"
      ]
    },
    {
      "cell_type": "code",
      "metadata": {
        "colab": {
          "base_uri": "https://localhost:8080/"
        },
        "id": "XYXFBdm_BeNh",
        "outputId": "033bd026-4100-4138-961e-2e5c8f03991f"
      },
      "source": [
        "# training the using logistic regression\n",
        "from sklearn.linear_model import LogisticRegression\n",
        "clf = LogisticRegression()\n",
        "clf.fit(x_train , y_train)\n",
        "#evaluation \n",
        "from sklearn.metrics import accuracy_score\n",
        "pred_train = clf.predict(x_train)\n",
        "accuracy = accuracy_score(y_train , pred_train)\n",
        "print(\"train data Accuracy is: \" , accuracy)\n",
        "pred_test = clf.predict(x_test)\n",
        "accuracy_test = accuracy_score(y_test ,pred_test)\n",
        "print(\"test data Accuracy is: \" ,accuracy_test)\n"
      ],
      "execution_count": null,
      "outputs": [
        {
          "output_type": "stream",
          "text": [
            "train data Accuracy is:  0.945054945054945\n",
            "test data Accuracy is:  0.9473684210526315\n"
          ],
          "name": "stdout"
        }
      ]
    },
    {
      "cell_type": "markdown",
      "metadata": {
        "id": "22ag6fRLI6Ab"
      },
      "source": [
        "Plotting graph"
      ]
    },
    {
      "cell_type": "markdown",
      "metadata": {
        "id": "rr9KujlAC2wu"
      },
      "source": [
        "Detect wheather the person is suffering from malignent or belinin type cancer"
      ]
    },
    {
      "cell_type": "code",
      "metadata": {
        "colab": {
          "base_uri": "https://localhost:8080/"
        },
        "id": "PjE99ZHUDHON",
        "outputId": "c5df8877-8b13-42d2-c7cb-64e90ba41cb0"
      },
      "source": [
        "data_input =(17.99,10.38,122.8,1001,0.1184,0.2776,0.3001,0.1471,0.2419,0.07871,1.095,0.9053,8.589,153.4,0.006399,0.04904,0.05373,0.01587,0.03003,0.006193,25.38,17.33,184.6,2019,0.1622,0.6656,0.7119,0.2654,0.4601,0.1189)\n",
        "# change the data of tuples into an array inorder to make prediction \n",
        "data_input_converted = np.asarray(data_input)\n",
        "\n",
        "#reshape the input matrix(1,-1), since it is single instance \n",
        "data_input_reshape =data_input_converted.reshape(1,-1)\n",
        "# predict the value :\n",
        "pred_value  = clf.predict(data_input_reshape)\n",
        "print(pred_value)\n",
        "if (pred_value[0] == 0):\n",
        "  print(\"This is Malignant\")\n",
        "else:\n",
        "  print(\"This is benign\")\n",
        "\n"
      ],
      "execution_count": null,
      "outputs": [
        {
          "output_type": "stream",
          "text": [
            "[0]\n",
            "This is Malignant\n"
          ],
          "name": "stdout"
        }
      ]
    },
    {
      "cell_type": "code",
      "metadata": {
        "id": "8Zy_2_CxBfnK"
      },
      "source": [
        ""
      ],
      "execution_count": null,
      "outputs": []
    }
  ]
}